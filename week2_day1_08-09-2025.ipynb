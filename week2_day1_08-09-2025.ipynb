{
 "cells": [
  {
   "cell_type": "code",
   "execution_count": null,
   "id": "701ef6f9",
   "metadata": {},
   "outputs": [
    {
     "name": "stdout",
     "output_type": "stream",
     "text": [
      "2\n",
      "3\n",
      "5\n",
      "7\n",
      "11\n",
      "13\n",
      "17\n",
      "19\n"
     ]
    }
   ],
   "source": [
    "\"\"\"prime numbers up to n\"\"\"\n",
    "p=int(input(\"Enter a number: \"))\n",
    "for i in range(p):\n",
    "    if i>1:\n",
    "        for j in range(2,i):\n",
    "            if i%j==0:\n",
    "                break\n",
    "        else:\n",
    "            print(i)"
   ]
  },
  {
   "cell_type": "code",
   "execution_count": null,
   "id": "b0b0342c",
   "metadata": {},
   "outputs": [
    {
     "name": "stdout",
     "output_type": "stream",
     "text": [
      "mom\n",
      "palindrome\n"
     ]
    }
   ],
   "source": [
    "\"\"\"palindrome\"\"\"\n",
    "str1=input(\"Enter a string:\").lower()\n",
    "str2=str1[::-1]\n",
    "print(str1)\n",
    "if str1==str2:\n",
    "    print(\"palindrome\")\n",
    "else:\n",
    "    print(\"not palindrome\")"
   ]
  },
  {
   "cell_type": "code",
   "execution_count": null,
   "id": "949171be",
   "metadata": {},
   "outputs": [
    {
     "name": "stdout",
     "output_type": "stream",
     "text": [
      "Anagrams\n"
     ]
    }
   ],
   "source": [
    "\"\"\"anagrams\"\"\"\n",
    "str1=input(\"Enter a string: \")\n",
    "str2=input(\"Enter another string: \")\n",
    "if sorted(str1)==sorted(str2):\n",
    "    print(\"Anagrams\")\n",
    "else:\n",
    "    print(\"Not Anagrams\")"
   ]
  },
  {
   "cell_type": "code",
   "execution_count": null,
   "id": "54cac15d",
   "metadata": {},
   "outputs": [
    {
     "name": "stdout",
     "output_type": "stream",
     "text": [
      "varun\n",
      "vowels: 2\n",
      "consonants: 3\n"
     ]
    }
   ],
   "source": [
    "\"\"\"returning vowels and consonants\"\"\"\n",
    "v=0\n",
    "c=0\n",
    "strl=input(\"Enter a string: \")\n",
    "print(strl)\n",
    "li=list(strl)\n",
    "for i in range(len(li)):\n",
    "    if li[i] in 'aeiouAEIOU':\n",
    "        v+=1\n",
    "    else:\n",
    "        c+=1\n",
    "print(\"vowels:\",v)\n",
    "print(\"consonants:\",c)"
   ]
  },
  {
   "cell_type": "code",
   "execution_count": null,
   "id": "8da8e316",
   "metadata": {},
   "outputs": [
    {
     "name": "stdout",
     "output_type": "stream",
     "text": [
      "('programming', 11)\n"
     ]
    }
   ],
   "source": [
    "from collections import Counter\n",
    "import math\n",
    "def largest_word(sentence):\n",
    "    words = sentence.split()\n",
    "    largest = max(words, key=len)\n",
    "    return largest, len(largest)\n",
    "print(largest_word(\"I love programming in Python\"))"
   ]
  },
  {
   "cell_type": "markdown",
   "id": "afa34fba",
   "metadata": {},
   "source": [
    "python modules"
   ]
  },
  {
   "cell_type": "code",
   "execution_count": 19,
   "id": "f99fc0cd",
   "metadata": {},
   "outputs": [
    {
     "name": "stdout",
     "output_type": "stream",
     "text": [
      "?}^&EG\n"
     ]
    }
   ],
   "source": [
    "import random\n",
    "import string\n",
    "def password_gen(n):\n",
    "    if n<0:\n",
    "        print(\"inavlid\")\n",
    "    else:\n",
    "       gene=string.ascii_letters+string.digits+string.punctuation\n",
    "       password = ''.join(random.choice(gene) for _ in range(n))\n",
    "       print(password)\n",
    "n=int(input(\"Enter length of password: \"))\n",
    "password_gen(n)\n"
   ]
  },
  {
   "cell_type": "code",
   "execution_count": 21,
   "id": "f7f5ee08",
   "metadata": {},
   "outputs": [
    {
     "name": "stdout",
     "output_type": "stream",
     "text": [
      "9.486832980505138\n",
      "-0.3649283775894742\n",
      "-0.9310355950391553\n"
     ]
    }
   ],
   "source": [
    "import math\n",
    "n=int(input(\"Enter a number: \"))\n",
    "print(math.sqrt(n))\n",
    "print(math.sin(n/math.pi))\n",
    "print(math.cos(n/math.pi))"
   ]
  },
  {
   "cell_type": "code",
   "execution_count": 26,
   "id": "ebd1362f",
   "metadata": {},
   "outputs": [
    {
     "name": "stdout",
     "output_type": "stream",
     "text": [
      "('snowy', 34)\n"
     ]
    }
   ],
   "source": [
    "import random\n",
    "def weather_simulator():\n",
    "    weather_conditions=[\"sunny\",\"rainy\",\"cloudy\",\"stormy\",\"snowy\"]\n",
    "    temp=[32,34,45,67,65]\n",
    "    return random.choice(weather_conditions), random.choice(temp)\n",
    "print(weather_simulator())"
   ]
  },
  {
   "cell_type": "code",
   "execution_count": 28,
   "id": "9761bd7f",
   "metadata": {},
   "outputs": [
    {
     "name": "stdout",
     "output_type": "stream",
     "text": [
      "4\n",
      "3\n",
      "2\n",
      "1\n",
      "Time's up!\n"
     ]
    }
   ],
   "source": [
    "import time\n",
    "def countdown(m):\n",
    "    for i in range(m,0,-1):\n",
    "        print(i)\n",
    "        time.sleep(1)\n",
    "    print(\"Time's up!\")\n",
    "n=int(input(\"Enter a number: \"))\n",
    "countdown(n)\n"
   ]
  },
  {
   "cell_type": "markdown",
   "id": "cf3aca71",
   "metadata": {},
   "source": [
    "oops python"
   ]
  },
  {
   "cell_type": "code",
   "execution_count": 29,
   "id": "8347fb23",
   "metadata": {},
   "outputs": [
    {
     "name": "stdout",
     "output_type": "stream",
     "text": [
      "Deposited 500. New balance is 1500.\n",
      "Withdrew 1100. New balance is 400.\n",
      "400\n"
     ]
    }
   ],
   "source": [
    "class account:\n",
    "    def __init__(self, name, balance=0):\n",
    "        self.acc_owner = name\n",
    "        self.balance = balance\n",
    "\n",
    "    def deposit(self, amount):\n",
    "        if amount <= 0:\n",
    "            print(\"Invalid deposit amount.\")\n",
    "            return\n",
    "        self.balance += amount\n",
    "        print(f\"Deposited {amount}. New balance is {self.balance}.\")\n",
    "    def withdraw(self, amount):\n",
    "        if amount <= 0:\n",
    "            print(\"Invalid withdrawal amount.\")\n",
    "            return\n",
    "        if amount > self.balance:\n",
    "            print(\"Insufficient funds.\")\n",
    "            return\n",
    "        self.balance -= amount\n",
    "        print(f\"Withdrew {amount}. New balance is {self.balance}.\")\n",
    "    def get_balance(self):\n",
    "        return self.balance\n",
    "acc=account(\"varun\",1000)\n",
    "acc.deposit(500)\n",
    "acc.withdraw(1100)\n",
    "print(acc.get_balance())\n"
   ]
  },
  {
   "cell_type": "code",
   "execution_count": 32,
   "id": "a6b86775",
   "metadata": {},
   "outputs": [
    {
     "name": "stdout",
     "output_type": "stream",
     "text": [
      "91.25\n",
      "98\n",
      "87\n",
      "Added mark 92. New marks are [90, 98, 87, 90, 92].\n"
     ]
    }
   ],
   "source": [
    "class marks:\n",
    "    def __init__(self,name,marks):\n",
    "        self.name=name\n",
    "        self.marks=marks\n",
    "    def get_average(self):\n",
    "        return sum(self.marks)/len(self.marks) \n",
    "    def add_marks(self,mark):\n",
    "        self.marks.append(mark)\n",
    "        print(f\"Added mark {mark}. New marks are {self.marks}.\")\n",
    "    def get_highest(self):\n",
    "        return max(self.marks)\n",
    "    def get_lowest(self):\n",
    "        return min(self.marks)\n",
    "m=marks(\"varun\",[90,98,87,90])\n",
    "print(m.get_average())\n",
    "print(m.get_highest())\n",
    "print(m.get_lowest())\n",
    "m.add_marks(92)"
   ]
  },
  {
   "cell_type": "code",
   "execution_count": 34,
   "id": "c86bb8a1",
   "metadata": {},
   "outputs": [
    {
     "name": "stdout",
     "output_type": "stream",
     "text": [
      "10000.0\n",
      "4000.0\n",
      "1500.0\n"
     ]
    }
   ],
   "source": [
    "class Employee:\n",
    "    def __init__(self,name,salary):\n",
    "        self.name=name\n",
    "        self.salary=salary\n",
    "    def bonus(self):\n",
    "        return 0\n",
    "class manager(Employee):\n",
    "    def bonus(self):\n",
    "        return self.salary * 0.2\n",
    "class developer(Employee):\n",
    "    def bonus(self):\n",
    "        return self.salary*0.1\n",
    "class intern(Employee):\n",
    "    def bonus(self):\n",
    "        return self.salary * 0.05\n",
    "m=manager(\"jake\",50000)\n",
    "d=developer(\"john\",40000)\n",
    "i=intern(\"jane\",30000)\n",
    "print(m.bonus())\n",
    "print(d.bonus())\n",
    "print(i.bonus())"
   ]
  },
  {
   "cell_type": "code",
   "execution_count": 36,
   "id": "8e5489ac",
   "metadata": {},
   "outputs": [
    {
     "name": "stdout",
     "output_type": "stream",
     "text": [
      "200\n",
      "706.5\n"
     ]
    }
   ],
   "source": [
    "class shape:\n",
    "    def area(self):\n",
    "        pass\n",
    "class rectangle(shape):\n",
    "    def __init__(self,width,height):\n",
    "        self.width=width\n",
    "        self.height=height\n",
    "    def area(self):\n",
    "        return self.width*self.height\n",
    "class circle(shape):\n",
    "    def __init__(self,radius):\n",
    "        self.radius=radius\n",
    "    def area(self):\n",
    "        return 3.14*self.radius**2\n",
    "r=rectangle(10,20)\n",
    "c=circle(15)\n",
    "print(r.area())\n",
    "print(c.area())\n"
   ]
  },
  {
   "cell_type": "code",
   "execution_count": 37,
   "id": "703be21c",
   "metadata": {},
   "outputs": [
    {
     "name": "stdout",
     "output_type": "stream",
     "text": [
      "Added Shirt for ₹500\n",
      "Added Shoes for ₹1500\n",
      "Items in the order:\n",
      "- Shirt: ₹500\n",
      "- Shoes: ₹1500\n",
      "Total = 2000\n",
      "Removed Shirt\n",
      "Items in the order:\n",
      "- Shoes: ₹1500\n",
      "Total = 1500\n"
     ]
    }
   ],
   "source": [
    "class Order:\n",
    "    def __init__(self):\n",
    "        self.items = {}  \n",
    "\n",
    "    def add(self, item, price):\n",
    "        self.items[item] = price\n",
    "        print(f\"Added {item} for ₹{price}\")\n",
    "\n",
    "    def remove(self, item):\n",
    "        if item in self.items:\n",
    "            del self.items[item]\n",
    "            print(f\"Removed {item}\")\n",
    "        else:\n",
    "            print(f\"{item} not found in order.\")\n",
    "\n",
    "    def calculate_total(self):\n",
    "        total = sum(self.items.values())\n",
    "        return f\"Total = {total}\"\n",
    "\n",
    "    def show_items(self):\n",
    "        if not self.items:\n",
    "            print(\"No items in the order.\")\n",
    "        else:\n",
    "            print(\"Items in the order:\")\n",
    "            for item, price in self.items.items():\n",
    "                print(f\"- {item}: ₹{price}\")\n",
    "order = Order()\n",
    "order.add(\"Shirt\", 500)\n",
    "order.add(\"Shoes\", 1500)\n",
    "order.show_items()\n",
    "print(order.calculate_total())\n",
    "\n",
    "order.remove(\"Shirt\")\n",
    "order.show_items()\n",
    "print(order.calculate_total())\n",
    "\n"
   ]
  },
  {
   "cell_type": "markdown",
   "id": "a8dc3064",
   "metadata": {},
   "source": [
    "python functions"
   ]
  },
  {
   "cell_type": "code",
   "execution_count": 44,
   "id": "016869db",
   "metadata": {},
   "outputs": [
    {
     "name": "stdout",
     "output_type": "stream",
     "text": [
      "[0, 1, 1, 2, 3, 5, 8]\n"
     ]
    }
   ],
   "source": [
    "def fibonacci(n):\n",
    "    fib_list=[]\n",
    "    a,b=0,1\n",
    "    for i in range(n):\n",
    "        fib_list.append(a)\n",
    "        a,b=b,a+b\n",
    "    return fib_list\n",
    "print(fibonacci(7))"
   ]
  },
  {
   "cell_type": "code",
   "execution_count": 45,
   "id": "e8f2b7b8",
   "metadata": {},
   "outputs": [
    {
     "name": "stdout",
     "output_type": "stream",
     "text": [
      "120\n"
     ]
    }
   ],
   "source": [
    "def factorial(n):\n",
    "    if n==0:\n",
    "        return 1\n",
    "    else:\n",
    "        return n * factorial(n-1)\n",
    "print(factorial(5))"
   ]
  },
  {
   "cell_type": "code",
   "execution_count": 51,
   "id": "0273208b",
   "metadata": {},
   "outputs": [
    {
     "name": "stdout",
     "output_type": "stream",
     "text": [
      "{'banana', 'apple', 'orange'}\n",
      "{'apple': 2, 'banana': 2, 'orange': 1}\n"
     ]
    }
   ],
   "source": [
    "from collections import Counter\n",
    "str1=input()\n",
    "str1=str1.split()\n",
    "set1=set(str1)\n",
    "print(set1)\n",
    "counter=Counter(str1)\n",
    "print(dict(counter))\n"
   ]
  },
  {
   "cell_type": "code",
   "execution_count": 55,
   "id": "3a983482",
   "metadata": {},
   "outputs": [
    {
     "name": "stdout",
     "output_type": "stream",
     "text": [
      "B\n"
     ]
    }
   ],
   "source": [
    "def grade_calc(marks):\n",
    "    percent=sum(marks)/len(marks)\n",
    "    if percent >= 90:\n",
    "        return \"A+\"\n",
    "    elif percent >= 80:\n",
    "        return \"A\"\n",
    "    elif percent >= 70:\n",
    "        return \"B+\"\n",
    "    elif percent >= 60:\n",
    "        return \"B\"\n",
    "    elif percent >= 50:\n",
    "        return \"P\"\n",
    "    else:\n",
    "        return \"F\"\n",
    "mark=list(map(int,input().split()))\n",
    "print(grade_calc(mark))\n"
   ]
  },
  {
   "cell_type": "code",
   "execution_count": 56,
   "id": "5fe19a76",
   "metadata": {},
   "outputs": [
    {
     "name": "stdout",
     "output_type": "stream",
     "text": [
      "45\n"
     ]
    }
   ],
   "source": [
    "def sec_largest(numbers):\n",
    "    numbers = list(set(numbers))\n",
    "    numbers.sort()\n",
    "    return numbers[-2] if len(numbers) >= 2 else None\n",
    "print(sec_largest([10,20,4,45,99,99,45,20]))"
   ]
  },
  {
   "cell_type": "code",
   "execution_count": 57,
   "id": "d0903794",
   "metadata": {},
   "outputs": [
    {
     "name": "stdout",
     "output_type": "stream",
     "text": [
      "Text files: 0\n",
      "Python files: 0\n"
     ]
    }
   ],
   "source": [
    "import os\n",
    "\n",
    "txt_count = 0\n",
    "py_count = 0\n",
    "\n",
    "for file in os.listdir(\".\"):\n",
    "    if file.endswith(\".txt\"):\n",
    "        txt_count += 1\n",
    "    elif file.endswith(\".py\"):\n",
    "        py_count += 1\n",
    "\n",
    "print(\"Text files:\", txt_count)\n",
    "print(\"Python files:\", py_count)\n"
   ]
  },
  {
   "cell_type": "code",
   "execution_count": 58,
   "id": "297eb84b",
   "metadata": {},
   "outputs": [
    {
     "name": "stdout",
     "output_type": "stream",
     "text": [
      "Mean: 87.85714285714286\n",
      "Median: 90\n",
      "Variance: 73.80952380952381\n"
     ]
    }
   ],
   "source": [
    "import statistics\n",
    "\n",
    "data = [75, 80, 90, 100, 85, 90, 95]\n",
    "mean = statistics.mean(data)\n",
    "median = statistics.median(data)\n",
    "variance = statistics.variance(data)\n",
    "\n",
    "print(\"Mean:\", mean)\n",
    "print(\"Median:\", median)\n",
    "print(\"Variance:\", variance)"
   ]
  },
  {
   "cell_type": "code",
   "execution_count": 60,
   "id": "d76eb173",
   "metadata": {},
   "outputs": [
    {
     "name": "stdout",
     "output_type": "stream",
     "text": [
      "Roots are real and different.\n",
      "Root 1: -1.5857864376269049\n",
      "Root 2: -4.414213562373095\n"
     ]
    }
   ],
   "source": [
    "import math\n",
    "\n",
    "a = int(input(\"Enter a: \"))\n",
    "b = int(input(\"Enter b: \"))\n",
    "c = int(input(\"Enter c: \"))\n",
    "D = b**2 - 4*a*c\n",
    "root1 = (-b + math.sqrt(D)) / (2*a)\n",
    "root2 = (-b - math.sqrt(D)) / (2*a)\n",
    "print(\"Roots are real and different.\")\n",
    "print(\"Root 1:\", root1)\n",
    "print(\"Root 2:\", root2)"
   ]
  },
  {
   "cell_type": "code",
   "execution_count": 61,
   "id": "eef98124",
   "metadata": {},
   "outputs": [
    {
     "name": "stdout",
     "output_type": "stream",
     "text": [
      "Computer wins! Computer chose paper\n"
     ]
    }
   ],
   "source": [
    "import random\n",
    "\n",
    "choose = ['rock', 'paper', 'scissors']\n",
    "computer = random.choice(choose)\n",
    "player = input(\"Enter rock, paper, or scissors: \").lower()\n",
    "if player == computer:\n",
    "    print(\"It's a tie! Both chose\", player)\n",
    "elif (player == 'rock' and computer == 'scissors') or (player == 'paper' and computer == 'rock') or (player == 'scissors' and computer == 'paper'):\n",
    "    print(\"You win! Computer chose\", computer)\n",
    "else:\n",
    "    print(\"Computer wins! Computer chose\", computer)"
   ]
  },
  {
   "cell_type": "code",
   "execution_count": 62,
   "id": "aed9ea63",
   "metadata": {},
   "outputs": [
    {
     "name": "stdout",
     "output_type": "stream",
     "text": [
      "Give exactly three numbers as arguments.\n"
     ]
    }
   ],
   "source": [
    "import sys\n",
    "\n",
    "if len(sys.argv) != 4:\n",
    "    print(\"Give exactly three numbers as arguments.\")\n",
    "else:\n",
    "    num1 = int(sys.argv[1])\n",
    "    num2 = int(sys.argv[2])\n",
    "    num3 = int(sys.argv[3])\n",
    "\n",
    "    total = num1 + num2 + num3\n",
    "    print(\"Sum =\", total)"
   ]
  },
  {
   "cell_type": "code",
   "execution_count": 63,
   "id": "232e2ad9",
   "metadata": {},
   "outputs": [
    {
     "name": "stdout",
     "output_type": "stream",
     "text": [
      "You have borrowed Python 101\n",
      "You have returned Python 101\n",
      "{'Python 101': 3, 'Data Science': 2}\n"
     ]
    }
   ],
   "source": [
    "class Library:\n",
    "    def __init__(self, books):\n",
    "        self.books = books\n",
    "    \n",
    "    def borrow(self, title):\n",
    "        if title in self.books and self.books[title] > 0:\n",
    "            self.books[title] -= 1\n",
    "            return f\"You have borrowed {title}\"\n",
    "        else:\n",
    "            return f\"Sorry, {title} is not available\"\n",
    "    def return_book(self, title):\n",
    "        if title in self.books:\n",
    "            self.books[title] += 1\n",
    "            return f\"You have returned {title}\"\n",
    "        else:\n",
    "            self.books[title] = 1\n",
    "            return f\"Thank you for returning {title}\"\n",
    "    def show_books(self):\n",
    "        return self.books\n",
    "    \n",
    "lib = Library({\"Python 101\": 3, \"Data Science\": 2})\n",
    "print(lib.borrow(\"Python 101\"))\n",
    "print(lib.return_book(\"Python 101\"))\n",
    "print(lib.show_books())"
   ]
  },
  {
   "cell_type": "code",
   "execution_count": 65,
   "id": "f4dafc6a",
   "metadata": {},
   "outputs": [
    {
     "name": "stdout",
     "output_type": "stream",
     "text": [
      "Access granted\n",
      "Your balance is 500\n",
      "Deposited 200. New balance is 700\n",
      "Withdrew 100. New balance is 600\n",
      "Your balance is 600\n"
     ]
    }
   ],
   "source": [
    "class ATM:\n",
    "    def __init__(self, balance, pin, is_authenticated=False):\n",
    "        self.balance = balance\n",
    "        self.pin = pin\n",
    "        self.is_authenticated = is_authenticated\n",
    "    \n",
    "    def login(self, pin):\n",
    "        if pin == self.pin:\n",
    "            self.is_authenticated = True\n",
    "            return \"Access granted\"\n",
    "        else:\n",
    "            return \"Invalid Access\"\n",
    "    \n",
    "    def check_balance(self):\n",
    "        if self.is_authenticated:\n",
    "            return f\"Your balance is {self.balance}\"\n",
    "        else:\n",
    "            return \"Please login first\"\n",
    "    \n",
    "    def deposit(self, amount):\n",
    "        if self.is_authenticated:\n",
    "            self.balance += amount\n",
    "            return f\"Deposited {amount}. New balance is {self.balance}\"\n",
    "        else:\n",
    "            return \"Please login first\"\n",
    "        \n",
    "    def withdraw(self, amount):\n",
    "        if self.is_authenticated:\n",
    "            if amount <= self.balance:\n",
    "                self.balance -= amount\n",
    "                return f\"Withdrew {amount}. New balance is {self.balance}\"\n",
    "            else:\n",
    "                return \"Insufficient funds\"\n",
    "        else:\n",
    "            return \"Please login first\"\n",
    "        \n",
    "atm = ATM(500, 1234)\n",
    "print(atm.login(1234))\n",
    "print(atm.check_balance())\n",
    "print(atm.deposit(200))\n",
    "print(atm.withdraw(100))\n",
    "print(atm.check_balance())"
   ]
  },
  {
   "cell_type": "code",
   "execution_count": 66,
   "id": "97bc6877",
   "metadata": {},
   "outputs": [
    {
     "name": "stdout",
     "output_type": "stream",
     "text": [
      "Dr. Smith is teaching Python\n",
      "Alice enrolled in Python\n",
      "Dr. Smith assigned: Project 1\n",
      "Alice submitted: Project 1\n"
     ]
    }
   ],
   "source": [
    "class Professor:\n",
    "    def __init__(self, name, subject):\n",
    "        self.name = name\n",
    "        self.subject = subject\n",
    "\n",
    "    def teach(self, course):\n",
    "        return f\"{self.name} is teaching {course}\"\n",
    "\n",
    "    def give_assignment(self, task):\n",
    "        return f\"{self.name} assigned: {task}\"\n",
    "\n",
    "\n",
    "class Student:\n",
    "    def __init__(self, name):\n",
    "        self.name = name\n",
    "        self.courses = []\n",
    "        self.assignments = []\n",
    "\n",
    "    def enroll(self, course):\n",
    "        self.courses.append(course)\n",
    "        return f\"{self.name} enrolled in {course}\"\n",
    "\n",
    "    def submit_assignment(self, task):\n",
    "        self.assignments.append(task)\n",
    "        return f\"{self.name} submitted: {task}\"\n",
    "\n",
    "\n",
    "prof = Professor(\"Dr. Smith\", \"Computer Science\")\n",
    "stud = Student(\"Alice\")\n",
    "print(prof.teach(\"Python\"))\n",
    "print(stud.enroll(\"Python\"))\n",
    "print(prof.give_assignment(\"Project 1\"))\n",
    "print(stud.submit_assignment(\"Project 1\"))\n"
   ]
  },
  {
   "cell_type": "code",
   "execution_count": 67,
   "id": "3dc89ec3",
   "metadata": {},
   "outputs": [
    {
     "name": "stdout",
     "output_type": "stream",
     "text": [
      "Ticket booked for Inception\n",
      "Booking cancelled for Inception\n",
      "{'Inception': 5, 'Avatar': 3}\n"
     ]
    }
   ],
   "source": [
    "class Cinema:\n",
    "    def __init__(self, movies):\n",
    "        self.movies = movies\n",
    "    \n",
    "    def book(self, movie):\n",
    "        if movie in self.movies and self.movies[movie] > 0:\n",
    "            self.movies[movie] -= 1\n",
    "            return f\"Ticket booked for {movie}\"\n",
    "        else:\n",
    "            return f\"Sorry, {movie} is sold out\"\n",
    "    \n",
    "    def cancel(self, movie):\n",
    "        if movie in self.movies:\n",
    "            self.movies[movie] += 1\n",
    "            return f\"Booking cancelled for {movie}\"\n",
    "        else:\n",
    "            self.movies[movie] = 1\n",
    "            return f\"Thank you for cancelling {movie}\"\n",
    "        \n",
    "    def show_movies(self):\n",
    "        return self.movies\n",
    "    \n",
    "cinema = Cinema({\"Inception\": 5, \"Avatar\": 3})\n",
    "print(cinema.book(\"Inception\"))\n",
    "print(cinema.cancel(\"Inception\"))\n",
    "print(cinema.show_movies())"
   ]
  },
  {
   "cell_type": "code",
   "execution_count": 68,
   "id": "74672447",
   "metadata": {},
   "outputs": [
    {
     "name": "stdout",
     "output_type": "stream",
     "text": [
      "Added Pasta with price 7\n",
      "Removed Burger\n",
      "Updated Pizza to price 9\n",
      "{'Pizza': 9, 'Pasta': 7}\n"
     ]
    }
   ],
   "source": [
    "class Menu:\n",
    "    def __init__(self, items):\n",
    "        self.items = items\n",
    "    \n",
    "    def add_item(self, item, price):\n",
    "        self.items[item] = price\n",
    "        return f\"Added {item} with price {price}\"\n",
    "    \n",
    "    def remove_item(self, item):\n",
    "        if item in self.items:\n",
    "            del self.items[item]\n",
    "            return f\"Removed {item}\"\n",
    "        else:\n",
    "            return f\"{item} not found\"\n",
    "    \n",
    "    def update_price(self, item, price):\n",
    "        if item in self.items:\n",
    "            self.items[item] = price\n",
    "            return f\"Updated {item} to price {price}\"\n",
    "        else:\n",
    "            return f\"{item} not found\"\n",
    "    \n",
    "    def show_menu(self):\n",
    "        return self.items\n",
    "    \n",
    "menu = Menu({\"Burger\": 5, \"Pizza\": 8})\n",
    "print(menu.add_item(\"Pasta\", 7))\n",
    "print(menu.remove_item(\"Burger\"))\n",
    "print(menu.update_price(\"Pizza\", 9))\n",
    "print(menu.show_menu())"
   ]
  },
  {
   "cell_type": "code",
   "execution_count": null,
   "id": "22a42810",
   "metadata": {},
   "outputs": [],
   "source": []
  }
 ],
 "metadata": {
  "kernelspec": {
   "display_name": "Python 3",
   "language": "python",
   "name": "python3"
  },
  "language_info": {
   "codemirror_mode": {
    "name": "ipython",
    "version": 3
   },
   "file_extension": ".py",
   "mimetype": "text/x-python",
   "name": "python",
   "nbconvert_exporter": "python",
   "pygments_lexer": "ipython3",
   "version": "3.11.13"
  }
 },
 "nbformat": 4,
 "nbformat_minor": 5
}
