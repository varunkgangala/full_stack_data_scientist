{
 "cells": [
  {
   "cell_type": "code",
   "execution_count": null,
   "id": "701ef6f9",
   "metadata": {},
   "outputs": [
    {
     "name": "stdout",
     "output_type": "stream",
     "text": [
      "2\n",
      "3\n",
      "5\n",
      "7\n",
      "11\n",
      "13\n",
      "17\n",
      "19\n"
     ]
    }
   ],
   "source": [
    "\"\"\"prime numbers up to n\"\"\"\n",
    "p=int(input(\"Enter a number: \"))\n",
    "for i in range(p):\n",
    "    if i>1:\n",
    "        for j in range(2,i):\n",
    "            if i%j==0:\n",
    "                break\n",
    "        else:\n",
    "            print(i)"
   ]
  },
  {
   "cell_type": "code",
   "execution_count": null,
   "id": "b0b0342c",
   "metadata": {},
   "outputs": [
    {
     "name": "stdout",
     "output_type": "stream",
     "text": [
      "mom\n",
      "palindrome\n"
     ]
    }
   ],
   "source": [
    "\"\"\"palindrome\"\"\"\n",
    "str1=input(\"Enter a string:\").lower()\n",
    "str2=str1[::-1]\n",
    "print(str1)\n",
    "if str1==str2:\n",
    "    print(\"palindrome\")\n",
    "else:\n",
    "    print(\"not palindrome\")"
   ]
  },
  {
   "cell_type": "code",
   "execution_count": null,
   "id": "949171be",
   "metadata": {},
   "outputs": [
    {
     "name": "stdout",
     "output_type": "stream",
     "text": [
      "Anagrams\n"
     ]
    }
   ],
   "source": [
    "\"\"\"anagrams\"\"\"\n",
    "str1=input(\"Enter a string: \")\n",
    "str2=input(\"Enter another string: \")\n",
    "if sorted(str1)==sorted(str2):\n",
    "    print(\"Anagrams\")\n",
    "else:\n",
    "    print(\"Not Anagrams\")"
   ]
  },
  {
   "cell_type": "code",
   "execution_count": null,
   "id": "54cac15d",
   "metadata": {},
   "outputs": [
    {
     "name": "stdout",
     "output_type": "stream",
     "text": [
      "varun\n",
      "vowels: 2\n",
      "consonants: 3\n"
     ]
    }
   ],
   "source": [
    "\"\"\"returning vowels and consonants\"\"\"\n",
    "v=0\n",
    "c=0\n",
    "strl=input(\"Enter a string: \")\n",
    "print(strl)\n",
    "li=list(strl)\n",
    "for i in range(len(li)):\n",
    "    if li[i] in 'aeiouAEIOU':\n",
    "        v+=1\n",
    "    else:\n",
    "        c+=1\n",
    "print(\"vowels:\",v)\n",
    "print(\"consonants:\",c)"
   ]
  },
  {
   "cell_type": "code",
   "execution_count": null,
   "id": "8da8e316",
   "metadata": {},
   "outputs": [
    {
     "name": "stdout",
     "output_type": "stream",
     "text": [
      "('programming', 11)\n"
     ]
    }
   ],
   "source": [
    "from collections import Counter\n",
    "import math\n",
    "def largest_word(sentence):\n",
    "    words = sentence.split()\n",
    "    largest = max(words, key=len)\n",
    "    return largest, len(largest)\n",
    "print(largest_word(\"I love programming in Python\"))"
   ]
  },
  {
   "cell_type": "markdown",
   "id": "afa34fba",
   "metadata": {},
   "source": [
    "python modules"
   ]
  },
  {
   "cell_type": "code",
   "execution_count": 19,
   "id": "f99fc0cd",
   "metadata": {},
   "outputs": [
    {
     "name": "stdout",
     "output_type": "stream",
     "text": [
      "?}^&EG\n"
     ]
    }
   ],
   "source": [
    "import random\n",
    "import string\n",
    "def password_gen(n):\n",
    "    if n<0:\n",
    "        print(\"inavlid\")\n",
    "    else:\n",
    "       gene=string.ascii_letters+string.digits+string.punctuation\n",
    "       password = ''.join(random.choice(gene) for _ in range(n))\n",
    "       print(password)\n",
    "n=int(input(\"Enter length of password: \"))\n",
    "password_gen(n)\n"
   ]
  },
  {
   "cell_type": "code",
   "execution_count": 21,
   "id": "f7f5ee08",
   "metadata": {},
   "outputs": [
    {
     "name": "stdout",
     "output_type": "stream",
     "text": [
      "9.486832980505138\n",
      "-0.3649283775894742\n",
      "-0.9310355950391553\n"
     ]
    }
   ],
   "source": [
    "import math\n",
    "n=int(input(\"Enter a number: \"))\n",
    "print(math.sqrt(n))\n",
    "print(math.sin(n/math.pi))\n",
    "print(math.cos(n/math.pi))"
   ]
  },
  {
   "cell_type": "code",
   "execution_count": 26,
   "id": "ebd1362f",
   "metadata": {},
   "outputs": [
    {
     "name": "stdout",
     "output_type": "stream",
     "text": [
      "('snowy', 34)\n"
     ]
    }
   ],
   "source": [
    "import random\n",
    "def weather_simulator():\n",
    "    weather_conditions=[\"sunny\",\"rainy\",\"cloudy\",\"stormy\",\"snowy\"]\n",
    "    temp=[32,34,45,67,65]\n",
    "    return random.choice(weather_conditions), random.choice(temp)\n",
    "print(weather_simulator())"
   ]
  },
  {
   "cell_type": "code",
   "execution_count": 28,
   "id": "9761bd7f",
   "metadata": {},
   "outputs": [
    {
     "name": "stdout",
     "output_type": "stream",
     "text": [
      "4\n",
      "3\n",
      "2\n",
      "1\n",
      "Time's up!\n"
     ]
    }
   ],
   "source": [
    "import time\n",
    "def countdown(m):\n",
    "    for i in range(m,0,-1):\n",
    "        print(i)\n",
    "        time.sleep(1)\n",
    "    print(\"Time's up!\")\n",
    "n=int(input(\"Enter a number: \"))\n",
    "countdown(n)\n"
   ]
  },
  {
   "cell_type": "code",
   "execution_count": null,
   "id": "8347fb23",
   "metadata": {},
   "outputs": [],
   "source": []
  }
 ],
 "metadata": {
  "kernelspec": {
   "display_name": "Python 3",
   "language": "python",
   "name": "python3"
  },
  "language_info": {
   "codemirror_mode": {
    "name": "ipython",
    "version": 3
   },
   "file_extension": ".py",
   "mimetype": "text/x-python",
   "name": "python",
   "nbconvert_exporter": "python",
   "pygments_lexer": "ipython3",
   "version": "3.11.13"
  }
 },
 "nbformat": 4,
 "nbformat_minor": 5
}
