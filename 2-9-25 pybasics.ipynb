{
 "cells": [
  {
   "cell_type": "code",
   "execution_count": 4,
   "id": "6f6ed09d",
   "metadata": {},
   "outputs": [
    {
     "name": "stdout",
     "output_type": "stream",
     "text": [
      "5 6\n",
      "Swapped a, b\n",
      "6 5\n"
     ]
    }
   ],
   "source": [
    "a, b = map(int, input().split())\n",
    "print(a, b)\n",
    "a, b = b, a\n",
    "print(\"Swapped a, b\")\n",
    "print(a, b)"
   ]
  },
  {
   "cell_type": "code",
   "execution_count": 8,
   "id": "cd61cb74",
   "metadata": {},
   "outputs": [
    {
     "name": "stdout",
     "output_type": "stream",
     "text": [
      "ih\n"
     ]
    }
   ],
   "source": [
    "s = input()\n",
    "s1 = \"\"\n",
    "for i in range(len(s)-1, -1, -1):\n",
    "    s1 += s[i]\n",
    "print(s1)"
   ]
  },
  {
   "cell_type": "code",
   "execution_count": null,
   "id": "9d89e27d",
   "metadata": {},
   "outputs": [
    {
     "name": "stdout",
     "output_type": "stream",
     "text": [
      "153\n",
      "Answer:  153\n",
      "Armstrong\n"
     ]
    }
   ],
   "source": [
    "n = input()\n",
    "d = len(n)\n",
    "ans = 0\n",
    "print(n)\n",
    "for i in n:\n",
    "    ans += int(i) ** d\n",
    "print(\"Answer:\", ans)\n",
    "if ans == int(n):\n",
    "    print(\"Armstrong\")\n",
    "else:\n",
    "    print(\"Not Armstrong\")"
   ]
  },
  {
   "cell_type": "code",
   "execution_count": null,
   "id": "5c824f66",
   "metadata": {},
   "outputs": [
    {
     "name": "stdout",
     "output_type": "stream",
     "text": [
      "hello world\n",
      "Vowels in s: 3\n",
      "hello world\n",
      "Consonants in s: 8\n"
     ]
    }
   ],
   "source": [
    "s = input()\n",
    "vow = \"aeiou\"\n",
    "s = s.lower()\n",
    "print(s)\n",
    "c = 0\n",
    "for i in s:\n",
    "    if i in vow:\n",
    "        c += 1\n",
    "print(\"Vowels in s:\", c)\n",
    "s = s.strip()\n",
    "print(s)\n",
    "print(\"Consonants in s:\", len(s) - c)"
   ]
  },
  {
   "cell_type": "code",
   "execution_count": 20,
   "id": "6750a225",
   "metadata": {},
   "outputs": [
    {
     "name": "stdout",
     "output_type": "stream",
     "text": [
      "5 * 1 = 5\n",
      "5 * 2 = 10\n",
      "5 * 3 = 15\n",
      "5 * 4 = 20\n",
      "5 * 5 = 25\n",
      "5 * 6 = 30\n",
      "5 * 7 = 35\n",
      "5 * 8 = 40\n",
      "5 * 9 = 45\n",
      "5 * 10 = 50\n"
     ]
    }
   ],
   "source": [
    "n = int(input())\n",
    "for i in range(1, 11):\n",
    "    print(n, \"*\", i, \"=\", n * i)"
   ]
  },
  {
   "cell_type": "code",
   "execution_count": 22,
   "id": "3f6c2b4e",
   "metadata": {},
   "outputs": [
    {
     "name": "stdout",
     "output_type": "stream",
     "text": [
      "Not a leap year.\n"
     ]
    }
   ],
   "source": [
    "yr = int(input(\"Enter year: \"))\n",
    "if (yr % 4 == 0 and yr % 100 != 0) or (yr % 400 == 0):\n",
    "    print(\"Is a leap year.\")\n",
    "else:\n",
    "    print(\"Not a leap year.\")"
   ]
  },
  {
   "cell_type": "code",
   "execution_count": 23,
   "id": "61cd4029",
   "metadata": {},
   "outputs": [
    {
     "name": "stdout",
     "output_type": "stream",
     "text": [
      "7\n"
     ]
    }
   ],
   "source": [
    "ar = list(map(int, input().split()))\n",
    "print(max(ar))"
   ]
  },
  {
   "cell_type": "code",
   "execution_count": 24,
   "id": "ab4b5936",
   "metadata": {},
   "outputs": [
    {
     "name": "stdout",
     "output_type": "stream",
     "text": [
      "Palindrome\n"
     ]
    }
   ],
   "source": [
    "s = input()\n",
    "print(\"Palindrome\" if s == s[::-1] else \"Not Palindrome\")"
   ]
  },
  {
   "cell_type": "code",
   "execution_count": null,
   "id": "8d5dbb2e",
   "metadata": {},
   "outputs": [
    {
     "name": "stdout",
     "output_type": "stream",
     "text": [
      "120\n"
     ]
    }
   ],
   "source": [
    "def fact(n):\n",
    "    if n == 0:\n",
    "        return 1\n",
    "    else:\n",
    "        return n * fact(n - 1)\n",
    "\n",
    "n = int(input())\n",
    "print(fact(n))"
   ]
  },
  {
   "cell_type": "code",
   "execution_count": 1,
   "id": "c5a944ab",
   "metadata": {},
   "outputs": [
    {
     "name": "stdout",
     "output_type": "stream",
     "text": [
      "15\n",
      "30\n",
      "45\n",
      "60\n",
      "75\n",
      "90\n",
      "6\n"
     ]
    }
   ],
   "source": [
    "m=0\n",
    "for i in range(1, 100):\n",
    "    if (i % 3 == 0 and i % 5 == 0):\n",
    "        m+=1\n",
    "        print(i)\n",
    "print(m)\n"
   ]
  },
  {
   "cell_type": "code",
   "execution_count": 3,
   "id": "c5fa0c38",
   "metadata": {},
   "outputs": [
    {
     "name": "stdout",
     "output_type": "stream",
     "text": [
      "Not prime\n"
     ]
    }
   ],
   "source": [
    "n=int(input())\n",
    "i=0\n",
    "if n<=1:\n",
    "    print(\"Not prime\")\n",
    "else:\n",
    "    for i in range(2, n):\n",
    "        if n % i == 0:\n",
    "            print(\"Not prime\")\n",
    "            break\n",
    "    else:\n",
    "        print(\"Prime\")\n"
   ]
  },
  {
   "cell_type": "code",
   "execution_count": 9,
   "id": "8e3a8a0e",
   "metadata": {},
   "outputs": [
    {
     "name": "stdout",
     "output_type": "stream",
     "text": [
      "[1, 3, 2, 55, 676]\n"
     ]
    }
   ],
   "source": [
    "l=map(int, input().split())\n",
    "l=list(l)\n",
    "print(l)\n",
    "l.sort()\n",
    "while(i<0):\n",
    "    if(l[i]==l[i+1]):\n",
    "        i-=1\n",
    "        print(l[i+2])\n"
   ]
  },
  {
   "cell_type": "code",
   "execution_count": null,
   "id": "ea293784",
   "metadata": {},
   "outputs": [
    {
     "name": "stdout",
     "output_type": "stream",
     "text": [
      "310\n"
     ]
    }
   ],
   "source": [
    "\"\"\"Scenario: A grocery shopkeeper wants to calculate the bill of 3 items. Prices and quantities should be stored in variables, and the program should display the total cost.\n",
    " \n",
    "Sample Input:\n",
    " \n",
    "Item1 Price: 50, Quantity: 2\n",
    "Item2 Price: 30, Quantity: 5\n",
    "Item3 Price: 20, Quantity: 3\n",
    " \n",
    " \n",
    "Expected Output:\n",
    " \n",
    "Total Bill = (50*2) + (30*5) + (20*3) = 100 + 150 + 60 = 310\"\"\"\n",
    "a,b,c,p,q,r=map(int, input().split())\n",
    "t=(a*p)+(b*q)+(c*r)\n",
    "print(t)"
   ]
  },
  {
   "cell_type": "code",
   "execution_count": null,
   "id": "7c4c568f",
   "metadata": {},
   "outputs": [
    {
     "name": "stdout",
     "output_type": "stream",
     "text": [
      "addition: 8\n",
      "subtraction: -2\n",
      "multiplication: 15\n",
      "division: 0.6\n",
      "modulus: 3\n"
     ]
    }
   ],
   "source": [
    "\"\"\"Build a calculator that takes two numbers and performs addition, subtraction, multiplication, division, and modulus.\n",
    " \n",
    "Sample Input:\n",
    " \n",
    "Enter first number: 15\n",
    "Enter second number: 4\n",
    " \n",
    " \n",
    "Expected Output:\n",
    " \n",
    "Addition = 19\n",
    "Subtraction = 11\n",
    "Multiplication = 60\n",
    "Division = 3.75\n",
    "Modulus = 3\"\"\"\n",
    "a,b=map(int, input().split())\n",
    "print(\"addition:\",a+b)\n",
    "print(\"subtraction:\",a-b)\n",
    "print(\"multiplication:\",a*b)\n",
    "print(\"division:\",a/b)\n",
    "print(\"modulus:\",a%b)"
   ]
  },
  {
   "cell_type": "code",
   "execution_count": null,
   "id": "dedc6364",
   "metadata": {},
   "outputs": [
    {
     "name": "stdout",
     "output_type": "stream",
     "text": [
      "grade:A+\n"
     ]
    }
   ],
   "source": [
    "\"\"\"A teacher wants a grading system where marks are input, and the grade is displayed.\n",
    " \n",
    "Sample Input:\n",
    " \n",
    "Enter marks: 82\n",
    " \n",
    " \n",
    "Expected Output:\n",
    " \n",
    "Grade: A (Excellent)\n",
    " \n",
    " \n",
    "(Rules: >=90 → A+, 80–89 → A, 70–79 → B, 60–69 → C, <60 → Fail)\"\"\"\n",
    "m=int(input(\"enter grade\"))\n",
    "if m>=90:\n",
    "    print(\"grade:A+\")\n",
    "elif m>=80:\n",
    "    print(\"grade:A\")\n",
    "elif m>=70:\n",
    "    print(\"grade:B\")\n",
    "elif m>=60:\n",
    "    print(\"grade:C\")\n",
    "else:\n",
    "    print(\"Fail\")"
   ]
  },
  {
   "cell_type": "code",
   "execution_count": 17,
   "id": "dece3b90",
   "metadata": {},
   "outputs": [
    {
     "name": "stdout",
     "output_type": "stream",
     "text": [
      "{'ard ': 9012, 'rds': 9234, 'dfg': 4356}\n",
      "Phone number: 4356\n"
     ]
    }
   ],
   "source": [
    "\"\"\"Create a phonebook using a dictionary where names are keys and numbers are values. Allow searching for a number by name.\n",
    " \n",
    "Sample Input:\n",
    " \n",
    "Phonebook = {\"Suhel\": 9876543210, \"Ravi\": 9123456780, \"Anita\": 9988776655}\n",
    "Search Name: Ravi\n",
    " \n",
    " \n",
    "Expected Output:\n",
    " \n",
    "Phone Number of Ravi: 9123456780\"\"\"\n",
    "n=int(input(\"entries:\"))\n",
    "ph={}\n",
    "for i in range(n):\n",
    "    k=input(\"name:\")\n",
    "    v=int(input(\"number:\"))\n",
    "    ph[k]=v\n",
    "print(ph)\n",
    "name = input(\"Enter name:\")\n",
    "if name in ph:\n",
    "    print(\"Phone number:\", ph[name])\n",
    "else:\n",
    "    print(\"Name not found.\")"
   ]
  },
  {
   "cell_type": "code",
   "execution_count": null,
   "id": "a3edef36",
   "metadata": {},
   "outputs": [
    {
     "name": "stdout",
     "output_type": "stream",
     "text": [
      "List: [45, 65, 76, 23, 7, 5]\n",
      "highest: 76\n",
      "lowest: 5\n",
      "average: 36.833333333333336\n"
     ]
    }
   ],
   "source": [
    "\"\"\"Student Marks List\n",
    "Scenario: Store marks of 5 students in a list. Display the highest, lowest, and average marks.\n",
    " \n",
    "Sample Input:\n",
    " \n",
    "Marks: [45, 78, 88, 56, 90]\n",
    " \n",
    " \n",
    "Expected Output:\n",
    " \n",
    "Highest Marks = 90\n",
    "Lowest Marks = 45\n",
    "Average Marks = 71.4\"\"\"\n",
    "l=list(map(int, input().split()))\n",
    "print(\"marks:\", l)\n",
    "l.sort()\n",
    "print(\"highest:\", l[len(l)-1])\n",
    "print(\"lowest:\", l[0])\n",
    "print(\"average:\", sum(l)/len(l))"
   ]
  },
  {
   "cell_type": "code",
   "execution_count": 18,
   "id": "98e3a85a",
   "metadata": {},
   "outputs": [
    {
     "name": "stdout",
     "output_type": "stream",
     "text": [
      "Sum of even numbers from 1 to 50: 650\n"
     ]
    }
   ],
   "source": [
    "\"\"\"A fitness app counts only even-numbered steps to calculate “balanced walking.” Write a program to find the sum of even numbers from 1 to 50.\"\"\"\n",
    "n=0\n",
    "for i in range(1, 51):\n",
    "    if i % 2 == 0:\n",
    "        n += i\n",
    "print(\"Sum of even numbers from 1 to 50:\", n)"
   ]
  },
  {
   "cell_type": "code",
   "execution_count": 19,
   "id": "1ce146eb",
   "metadata": {},
   "outputs": [
    {
     "name": "stdout",
     "output_type": "stream",
     "text": [
      "Lowercase letters: 5\n",
      "Uppercase letters: 6\n"
     ]
    }
   ],
   "source": [
    "\"\"\"A typing speed test wants to know how many uppercase and lowercase letters a user typed. Write a program to count uppercase and lowercase characters in a string.\"\"\"\n",
    "l=0\n",
    "u=0\n",
    "s=input(\"Enter a string:\")\n",
    "for i in s:\n",
    "    if i.islower():\n",
    "        l+=1\n",
    "    elif i.isupper():\n",
    "        u+=1\n",
    "print(\"Lowercase letters:\", l)\n",
    "print(\"Uppercase letters:\", u)\n"
   ]
  },
  {
   "cell_type": "code",
   "execution_count": 20,
   "id": "0dda075b",
   "metadata": {},
   "outputs": [
    {
     "name": "stdout",
     "output_type": "stream",
     "text": [
      "Fibonacci sequence: [0, 1, 1, 2, 3, 5, 8, 13, 21, 34, 55, 89, 144, 233, 377, 610, 987, 1597, 2584, 4181, 6765, 10946, 17711, 28657, 46368, 75025, 121393, 196418, 317811, 514229, 832040, 1346269, 2178309, 3524578, 5702887, 9227465, 14930352, 24157817, 39088169, 63245986, 102334155, 165580141, 267914296, 433494437, 701408733, 1134903170, 1836311903, 2971215073, 4807526976, 7778742049, 12586269025, 20365011074, 32951280099, 53316291173, 86267571272, 139583862445, 225851433717, 365435296162, 591286729879, 956722026041, 1548008755920, 2504730781961, 4052739537881, 6557470319842, 10610209857723, 17167680177565, 27777890035288, 44945570212853, 72723460248141, 117669030460994, 190392490709135, 308061521170129, 498454011879264, 806515533049393, 1304969544928657, 2111485077978050, 3416454622906707, 5527939700884757, 8944394323791464, 14472334024676221, 23416728348467685, 37889062373143906, 61305790721611591, 99194853094755497, 160500643816367088, 259695496911122585, 420196140727489673, 679891637638612258, 1100087778366101931, 1779979416004714189]\n"
     ]
    }
   ],
   "source": [
    "\"\"\"A financial tool simulates Fibonacci-like growth in savings. Write a program to generate the Fibonacci sequence up to n terms.\"\"\"\n",
    "n=int(input(\"Enter number of terms:\"))\n",
    "a, b = 0, 1\n",
    "fibonacci_sequence = []\n",
    "for i in range(n):\n",
    "    fibonacci_sequence.append(a)\n",
    "    a, b = b, a + b\n",
    "print(\"Fibonacci sequence:\", fibonacci_sequence)\n"
   ]
  },
  {
   "cell_type": "code",
   "execution_count": 21,
   "id": "391c2e65",
   "metadata": {},
   "outputs": [
    {
     "name": "stdout",
     "output_type": "stream",
     "text": [
      "The words are anagrams.\n"
     ]
    }
   ],
   "source": [
    "\"\"\"A word puzzle game checks if two words are anagrams (same letters but shuffled). Write a program to check if two strings are anagrams.\"\"\"\n",
    "def are_anagrams(str1, str2):\n",
    "    return sorted(str1) == sorted(str2)\n",
    "\n",
    "word1 = input(\"Enter first word: \")\n",
    "word2 = input(\"Enter second word: \")\n",
    "\n",
    "if are_anagrams(word1, word2):\n",
    "    print(\"The words are anagrams.\")\n",
    "else:\n",
    "    print(\"The words are not anagrams.\")\n"
   ]
  },
  {
   "cell_type": "code",
   "execution_count": 22,
   "id": "cc683df9",
   "metadata": {},
   "outputs": [
    {
     "data": {
      "text/plain": [
       "'A science experiment needs to verify whether a number is perfect (sum of divisors = number). Write a program to check if a number is a perfect number.'"
      ]
     },
     "execution_count": 22,
     "metadata": {},
     "output_type": "execute_result"
    }
   ],
   "source": [
    "\"\"\"A science experiment needs to verify whether a number is perfect (sum of divisors = number). Write a program to check if a number is a perfect number.\"\"\"\n"
   ]
  },
  {
   "cell_type": "code",
   "execution_count": 23,
   "id": "141b7860",
   "metadata": {},
   "outputs": [
    {
     "name": "stdout",
     "output_type": "stream",
     "text": [
      "Percentage: 62.2\n",
      "Grade: C\n"
     ]
    }
   ],
   "source": [
    "\"\"\"A school report system calculates percentage and assigns grades:\n",
    "\n",
    "≥90 → A\n",
    "\n",
    "≥75 → B\n",
    "\n",
    "≥50 → C\n",
    "\n",
    "<50 → Fail\n",
    "Write a program that takes 5 subject marks, calculates percentage, and prints the grade.\"\"\"\n",
    "a,b,c,d,e=map(int, input().split())\n",
    "total = a + b + c + d + e\n",
    "percentage = total / 5\n",
    "if percentage >= 90:\n",
    "    grade = \"A\"\n",
    "elif percentage >= 75:\n",
    "    grade = \"B\"\n",
    "elif percentage >= 50:\n",
    "    grade = \"C\"\n",
    "else:\n",
    "    grade = \"Fail\"\n",
    "print(\"Percentage:\", percentage)\n",
    "print(\"Grade:\", grade)"
   ]
  },
  {
   "cell_type": "code",
   "execution_count": 24,
   "id": "395081bf",
   "metadata": {},
   "outputs": [
    {
     "data": {
      "text/plain": [
       "'A mathematics quiz app generates all prime numbers between 1 and 100. Write a program to print all prime numbers in this range.'"
      ]
     },
     "execution_count": 24,
     "metadata": {},
     "output_type": "execute_result"
    }
   ],
   "source": [
    "\"\"\"A mathematics quiz app generates all prime numbers between 1 and 100. Write a program to print all prime numbers in this range.\"\"\"\n",
    "\n"
   ]
  },
  {
   "cell_type": "code",
   "execution_count": null,
   "id": "aa19f1df",
   "metadata": {},
   "outputs": [],
   "source": []
  }
 ],
 "metadata": {
  "kernelspec": {
   "display_name": "Python 3",
   "language": "python",
   "name": "python3"
  },
  "language_info": {
   "codemirror_mode": {
    "name": "ipython",
    "version": 3
   },
   "file_extension": ".py",
   "mimetype": "text/x-python",
   "name": "python",
   "nbconvert_exporter": "python",
   "pygments_lexer": "ipython3",
   "version": "3.11.0"
  }
 },
 "nbformat": 4,
 "nbformat_minor": 5
}
