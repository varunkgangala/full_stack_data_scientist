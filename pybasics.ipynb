{
 "cells": [
  {
   "cell_type": "code",
   "execution_count": 4,
   "id": "6f6ed09d",
   "metadata": {},
   "outputs": [
    {
     "name": "stdout",
     "output_type": "stream",
     "text": [
      "5 6\n",
      "Swapped a, b\n",
      "6 5\n"
     ]
    }
   ],
   "source": [
    "a, b = map(int, input().split())\n",
    "print(a, b)\n",
    "a, b = b, a\n",
    "print(\"Swapped a, b\")\n",
    "print(a, b)"
   ]
  },
  {
   "cell_type": "code",
   "execution_count": 8,
   "id": "cd61cb74",
   "metadata": {},
   "outputs": [
    {
     "name": "stdout",
     "output_type": "stream",
     "text": [
      "ih\n"
     ]
    }
   ],
   "source": [
    "s = input()\n",
    "s1 = \"\"\n",
    "for i in range(len(s)-1, -1, -1):\n",
    "    s1 += s[i]\n",
    "print(s1)"
   ]
  },
  {
   "cell_type": "code",
   "execution_count": null,
   "id": "9d89e27d",
   "metadata": {},
   "outputs": [
    {
     "name": "stdout",
     "output_type": "stream",
     "text": [
      "153\n",
      "Answer:  153\n",
      "Armstrong\n"
     ]
    }
   ],
   "source": [
    "n = input()\n",
    "d = len(n)\n",
    "ans = 0\n",
    "print(n)\n",
    "for i in n:\n",
    "    ans += int(i) ** d\n",
    "print(\"Answer:\", ans)\n",
    "if ans == int(n):\n",
    "    print(\"Armstrong\")\n",
    "else:\n",
    "    print(\"Not Armstrong\")"
   ]
  },
  {
   "cell_type": "code",
   "execution_count": null,
   "id": "5c824f66",
   "metadata": {},
   "outputs": [
    {
     "name": "stdout",
     "output_type": "stream",
     "text": [
      "hello world\n",
      "Vowels in s: 3\n",
      "hello world\n",
      "Consonants in s: 8\n"
     ]
    }
   ],
   "source": [
    "s = input()\n",
    "vow = \"aeiou\"\n",
    "s = s.lower()\n",
    "print(s)\n",
    "c = 0\n",
    "for i in s:\n",
    "    if i in vow:\n",
    "        c += 1\n",
    "print(\"Vowels in s:\", c)\n",
    "s = s.strip()\n",
    "print(s)\n",
    "print(\"Consonants in s:\", len(s) - c)"
   ]
  },
  {
   "cell_type": "code",
   "execution_count": 20,
   "id": "6750a225",
   "metadata": {},
   "outputs": [
    {
     "name": "stdout",
     "output_type": "stream",
     "text": [
      "5 * 1 = 5\n",
      "5 * 2 = 10\n",
      "5 * 3 = 15\n",
      "5 * 4 = 20\n",
      "5 * 5 = 25\n",
      "5 * 6 = 30\n",
      "5 * 7 = 35\n",
      "5 * 8 = 40\n",
      "5 * 9 = 45\n",
      "5 * 10 = 50\n"
     ]
    }
   ],
   "source": [
    "n = int(input())\n",
    "for i in range(1, 11):\n",
    "    print(n, \"*\", i, \"=\", n * i)"
   ]
  },
  {
   "cell_type": "code",
   "execution_count": 22,
   "id": "3f6c2b4e",
   "metadata": {},
   "outputs": [
    {
     "name": "stdout",
     "output_type": "stream",
     "text": [
      "Not a leap year.\n"
     ]
    }
   ],
   "source": [
    "yr = int(input(\"Enter year: \"))\n",
    "if (yr % 4 == 0 and yr % 100 != 0) or (yr % 400 == 0):\n",
    "    print(\"Is a leap year.\")\n",
    "else:\n",
    "    print(\"Not a leap year.\")"
   ]
  },
  {
   "cell_type": "code",
   "execution_count": 23,
   "id": "61cd4029",
   "metadata": {},
   "outputs": [
    {
     "name": "stdout",
     "output_type": "stream",
     "text": [
      "7\n"
     ]
    }
   ],
   "source": [
    "ar = list(map(int, input().split()))\n",
    "print(max(ar))"
   ]
  },
  {
   "cell_type": "code",
   "execution_count": 24,
   "id": "ab4b5936",
   "metadata": {},
   "outputs": [
    {
     "name": "stdout",
     "output_type": "stream",
     "text": [
      "Palindrome\n"
     ]
    }
   ],
   "source": [
    "s = input()\n",
    "print(\"Palindrome\" if s == s[::-1] else \"Not Palindrome\")"
   ]
  },
  {
   "cell_type": "code",
   "execution_count": null,
   "id": "8d5dbb2e",
   "metadata": {},
   "outputs": [
    {
     "name": "stdout",
     "output_type": "stream",
     "text": [
      "120\n"
     ]
    }
   ],
   "source": [
    "def fact(n):\n",
    "    if n == 0:\n",
    "        return 1\n",
    "    else:\n",
    "        return n * fact(n - 1)\n",
    "\n",
    "n = int(input())\n",
    "print(fact(n))"
   ]
  },
  {
   "cell_type": "code",
   "execution_count": 31,
   "id": "c5a944ab",
   "metadata": {},
   "outputs": [
    {
     "name": "stdout",
     "output_type": "stream",
     "text": [
      "15\n",
      "30\n",
      "45\n",
      "60\n",
      "75\n",
      "90\n"
     ]
    }
   ],
   "source": [
    "for i in range(1, 100):\n",
    "    if (i % 3 == 0 and i % 5 == 0):\n",
    "        print(i)"
   ]
  },
  {
   "cell_type": "code",
   "execution_count": null,
   "id": "c5fa0c38",
   "metadata": {},
   "outputs": [],
   "source": []
  }
 ],
 "metadata": {
  "kernelspec": {
   "display_name": "venv",
   "language": "python",
   "name": "python3"
  },
  "language_info": {
   "codemirror_mode": {
    "name": "ipython",
    "version": 3
   },
   "file_extension": ".py",
   "mimetype": "text/x-python",
   "name": "python",
   "nbconvert_exporter": "python",
   "pygments_lexer": "ipython3",
   "version": "3.11.0"
  }
 },
 "nbformat": 4,
 "nbformat_minor": 5
}
