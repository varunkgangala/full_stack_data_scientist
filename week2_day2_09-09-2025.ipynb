{
 "cells": [
  {
   "cell_type": "code",
   "execution_count": 1,
   "id": "bbc4e3d2",
   "metadata": {},
   "outputs": [
    {
     "name": "stdout",
     "output_type": "stream",
     "text": [
      "Total number of words: 2\n"
     ]
    }
   ],
   "source": [
    "\"\"\"Given a text file, count the total number of words.\"\"\"\n",
    "read_file = 'demo.txt'\n",
    "with open(read_file, 'r') as file:\n",
    "    text = file.read()\n",
    "    words = text.split()\n",
    "    word_count = len(words)\n",
    "    print(f'Total number of words: {word_count}')"
   ]
  },
  {
   "cell_type": "code",
   "execution_count": 2,
   "id": "5199a717",
   "metadata": {},
   "outputs": [
    {
     "name": "stdout",
     "output_type": "stream",
     "text": [
      "Password is strong.\n"
     ]
    }
   ],
   "source": [
    "\"\"\"Write a program to check if a password is strong (at least 8 characters, contains uppercase, lowercase, digit, and special char).\"\"\"\n",
    "import re\n",
    "password = input(\"Enter a password: \")\n",
    "if len(password) < 8:\n",
    "    print(\"Password is too short.\")\n",
    "elif not re.search(\"[a-z]\", password):\n",
    "    print(\"Password must contain a lowercase letter.\")\n",
    "elif not re.search(\"[A-Z]\", password):\n",
    "    print(\"Password must contain an uppercase letter.\")\n",
    "elif not re.search(\"[0-9]\", password):\n",
    "    print(\"Password must contain a digit.\")\n",
    "elif not re.search(\"[!@#$%^&*]\", password):\n",
    "    print(\"Password must contain a special character.\")\n",
    "else:\n",
    "    print(\"Password is strong.\")\n"
   ]
  },
  {
   "cell_type": "code",
   "execution_count": 12,
   "id": "820c5b9b",
   "metadata": {},
   "outputs": [
    {
     "name": "stdout",
     "output_type": "stream",
     "text": [
      "3.0 + 5.0 = 8.0\n"
     ]
    }
   ],
   "source": [
    "\"\"\"Implement a calculator with +, -, *, / operations.\"\"\"\n",
    "def calculator():\n",
    "    operation = input(\"Choose operation (+, -, *, /): \")\n",
    "    if operation in ('+', '-', '*', '/'):\n",
    "        num1 = float(input(\"Enter first number: \"))\n",
    "        num2 = float(input(\"Enter second number: \"))\n",
    "        if operation == '+':\n",
    "            print(f\"{num1} + {num2} = {num1 + num2}\")\n",
    "        elif operation == '-':\n",
    "            print(f\"{num1} - {num2} = {num1 - num2}\")\n",
    "        elif operation == '*':\n",
    "            print(f\"{num1} * {num2} = {num1 * num2}\")\n",
    "        elif operation == '/':\n",
    "            if num2 != 0:\n",
    "                print(f\"{num1} / {num2} = {num1 / num2}\")\n",
    "            else:\n",
    "                print(\"Error: Division by zero.\")\n",
    "    else:\n",
    "        print(\"Invalid operation.\")\n",
    "calculator()"
   ]
  },
  {
   "cell_type": "code",
   "execution_count": 7,
   "id": "e7ed223e",
   "metadata": {},
   "outputs": [
    {
     "name": "stdout",
     "output_type": "stream",
     "text": [
      "Duplicate names: Alice, Bob\n"
     ]
    }
   ],
   "source": [
    "\"\"\"Given a list of student names, find duplicates.\"\"\"\n",
    "students = [\"Alice\", \"Bob\", \"Charlie\", \"Alice\", \"David\", \"Bob\"]\n",
    "duplicates = set()\n",
    "for student in students:\n",
    "    if students.count(student) > 1:\n",
    "        duplicates.add(student)\n",
    "print(f\"Duplicate names: {', '.join(duplicates)}\")"
   ]
  },
  {
   "cell_type": "code",
   "execution_count": 8,
   "id": "d8790e18",
   "metadata": {},
   "outputs": [
    {
     "name": "stdout",
     "output_type": "stream",
     "text": [
      "45.0 Celsius is equal to 113.0 Fahrenheit.\n"
     ]
    }
   ],
   "source": [
    "\"\"\"Convert between Celsius and Fahrenheit.\"\"\"\n",
    "def celsius_to_fahrenheit(celsius):\n",
    "    return (celsius * 9/5) + 32\n",
    "def fahrenheit_to_celsius(fahrenheit):\n",
    "    return (fahrenheit - 32) * 5/9\n",
    "temp_c = float(input(\"Enter temperature in Celsius: \"))\n",
    "temp_f = celsius_to_fahrenheit(temp_c)\n",
    "print(f\"{temp_c} Celsius is equal to {temp_f} Fahrenheit.\")"
   ]
  },
  {
   "cell_type": "code",
   "execution_count": 9,
   "id": "b7b19bdf",
   "metadata": {},
   "outputs": [
    {
     "name": "stdout",
     "output_type": "stream",
     "text": [
      "The largest number is: 90\n"
     ]
    }
   ],
   "source": [
    "\"\"\"Find the largest number from a list of integers.\"\"\"\n",
    "numbers = [34, 67, 23, 89, 12, 90, 45]\n",
    "largest = max(numbers)\n",
    "print(f\"The largest number is: {largest}\")"
   ]
  },
  {
   "cell_type": "code",
   "execution_count": 10,
   "id": "d8e8a485",
   "metadata": {},
   "outputs": [
    {
     "name": "stdout",
     "output_type": "stream",
     "text": [
      "The simple interest is: 13.5\n"
     ]
    }
   ],
   "source": [
    "\"\"\"Calculate Simple Interest.\"\"\"\n",
    "def simple_interest(principal, rate, time):\n",
    "    return (principal * rate * time) / 100\n",
    "principal = float(input(\"Enter the principal amount: \"))\n",
    "rate = float(input(\"Enter the rate of interest: \"))\n",
    "time = float(input(\"Enter the time in years: \"))\n",
    "interest = simple_interest(principal, rate, time)\n",
    "print(f\"The simple interest is: {interest}\")"
   ]
  },
  {
   "cell_type": "code",
   "execution_count": 11,
   "id": "66e6646a",
   "metadata": {},
   "outputs": [
    {
     "name": "stdout",
     "output_type": "stream",
     "text": [
      "Defaulters: Bob, David\n"
     ]
    }
   ],
   "source": [
    "\"\"\"Given a dictionary of student names and attendance %, find defaulters (<75%).\"\"\"\n",
    "attendance = {\"Alice\": 80, \"Bob\": 70, \"Charlie\": 90, \"David\": 60}\n",
    "defaulters = [name for name, percent in attendance.items() if percent < 75]\n",
    "print(f\"Defaulters: {', '.join(defaulters)}\")"
   ]
  },
  {
   "cell_type": "code",
   "execution_count": 15,
   "id": "9c9ec32d",
   "metadata": {},
   "outputs": [
    {
     "name": "stdout",
     "output_type": "stream",
     "text": [
      "42\n"
     ]
    }
   ],
   "source": [
    "\"\"\"Input: 1234 → Output: 10\"\"\"\n",
    "n=int(input(\"\"))\n",
    "s=0\n",
    "while n>0:\n",
    "    r=n%10\n",
    "    s+=r\n",
    "    n=n/10\n",
    "print(int(s))\n"
   ]
  },
  {
   "cell_type": "code",
   "execution_count": 21,
   "id": "439d7eee",
   "metadata": {},
   "outputs": [
    {
     "name": "stdout",
     "output_type": "stream",
     "text": [
      "Prime\n"
     ]
    }
   ],
   "source": [
    "def prime_num(n):\n",
    "    if n <= 0:\n",
    "        return \"Invalid input\"\n",
    "    elif n == 1:\n",
    "        return \"Neither prime nor composite\"\n",
    "    else:\n",
    "        for i in range(2, int(n ** 0.5) + 1):\n",
    "            if n % i == 0:\n",
    "                return \"Composite\"\n",
    "        return \"Prime\"\n",
    "\n",
    "# Example usage:\n",
    "m = int(input(\"Enter a number: \"))\n",
    "result = prime_num(m)\n",
    "print(result)\n"
   ]
  },
  {
   "cell_type": "code",
   "execution_count": 24,
   "id": "21c85014",
   "metadata": {},
   "outputs": [
    {
     "name": "stdout",
     "output_type": "stream",
     "text": [
      "65\n",
      "34\n"
     ]
    }
   ],
   "source": [
    "\"\"\"Find smallest and largest numbers from a list\"\"\"\n",
    "import math\n",
    "l=list(map(int,input().split()))\n",
    "print(max(l))\n",
    "print(min(l))"
   ]
  },
  {
   "cell_type": "code",
   "execution_count": 25,
   "id": "c4f07d4f",
   "metadata": {},
   "outputs": [
    {
     "name": "stdout",
     "output_type": "stream",
     "text": [
      "730\n"
     ]
    }
   ],
   "source": [
    "\"\"\"Given items with prices in a dictionary, calculate total bill.\"\"\"\n",
    "dict={\"fridge\":100,\"tv\":30,\"speaker\":600}\n",
    "print(sum(dict.values()))"
   ]
  },
  {
   "cell_type": "code",
   "execution_count": 29,
   "id": "aa5c6459",
   "metadata": {},
   "outputs": [
    {
     "name": "stdout",
     "output_type": "stream",
     "text": [
      "5\n"
     ]
    }
   ],
   "source": [
    "\"\"\"Input 3 numbers, print the largest.\"\"\"\n",
    "a,b,c=map(int,input().split())\n",
    "print(max(a,b,c))"
   ]
  },
  {
   "cell_type": "code",
   "execution_count": 31,
   "id": "08b4a2d9",
   "metadata": {},
   "outputs": [
    {
     "name": "stdout",
     "output_type": "stream",
     "text": [
      "Counter({'f': 2, 'v': 2, 'a': 2, 'r': 1, 'e': 1, 'y': 1, 'g': 1, 'i': 1, 'l': 1, 'b': 1})\n"
     ]
    }
   ],
   "source": [
    "\"\"\"Count how many times each character appears in a string.\"\"\"\n",
    "from collections import Counter\n",
    "str1=input()\n",
    "c=Counter(str1)\n",
    "print(c)\n"
   ]
  },
  {
   "cell_type": "code",
   "execution_count": 34,
   "id": "511bdce9",
   "metadata": {},
   "outputs": [
    {
     "name": "stdout",
     "output_type": "stream",
     "text": [
      "220 units\n",
      "1400 rupees\n"
     ]
    }
   ],
   "source": [
    "\"\"\"Calculate electricity bill:\n",
    "First 100 units → ₹5/unit\n",
    "Next 100 units → ₹7/unit\n",
    "Above 200 units → ₹10/unit\"\"\"\n",
    "n=int(input())\n",
    "print(n,\"units\")\n",
    "if n<=0:\n",
    "    print(\"invalid\")\n",
    "elif n<=100:\n",
    "    print(n*5,\"rupees\")\n",
    "elif n>100 and n<=200:\n",
    "    print((n-100)*7+500,\"rupees\")\n",
    "else:\n",
    "    print((n-200)*10+1200,\"rupees\")"
   ]
  },
  {
   "cell_type": "code",
   "execution_count": 41,
   "id": "abe29a65",
   "metadata": {},
   "outputs": [
    {
     "name": "stdout",
     "output_type": "stream",
     "text": [
      "arun run varun\n"
     ]
    }
   ],
   "source": [
    "\"\"\"Sort a list of names in ascending order.\"\"\"\n",
    "l=list(input().split())\n",
    "print(*sorted(l))"
   ]
  },
  {
   "cell_type": "code",
   "execution_count": 42,
   "id": "59cc7bfb",
   "metadata": {},
   "outputs": [
    {
     "name": "stdout",
     "output_type": "stream",
     "text": [
      "4321\n"
     ]
    }
   ],
   "source": [
    "\"\"\"Input: 1234 → Output: 4321\"\"\"\n",
    "n=input()\n",
    "print(n[::-1])"
   ]
  },
  {
   "cell_type": "code",
   "execution_count": 49,
   "id": "59b16511",
   "metadata": {},
   "outputs": [
    {
     "name": "stdout",
     "output_type": "stream",
     "text": [
      "Counter({'n': 3, 'p': 3, 'z': 2})\n"
     ]
    }
   ],
   "source": [
    "\"\"\"Given a list, count positive, negative, and zero numbers.\"\"\"\n",
    "from collections import Counter\n",
    "l=list(map(int,input().split()))\n",
    "c=[]\n",
    "for i in l:\n",
    "    if i>0:\n",
    "        c.append('p')\n",
    "    elif i<0:\n",
    "        c.append('n')\n",
    "    else:\n",
    "        c.append('z')\n",
    "print(Counter(c))\n",
    "\n"
   ]
  },
  {
   "cell_type": "code",
   "execution_count": 3,
   "id": "900a6ac1",
   "metadata": {},
   "outputs": [
    {
     "name": "stdout",
     "output_type": "stream",
     "text": [
      "Login successful\n"
     ]
    }
   ],
   "source": [
    "\"\"\"User has 3 attempts to enter correct PIN.\"\"\"\n",
    "for i in range(3):\n",
    "    pin=int(input())\n",
    "    if pin==1234:\n",
    "        print(\"Login successful\")\n",
    "        break\n",
    "    else:\n",
    "        print(\"Incorrect PIN. Try again.\")"
   ]
  },
  {
   "cell_type": "code",
   "execution_count": 5,
   "id": "7db9d550",
   "metadata": {},
   "outputs": [
    {
     "name": "stdout",
     "output_type": "stream",
     "text": [
      "2.0\n"
     ]
    }
   ],
   "source": [
    "\"\"\"Write a program that asks for two numbers and divides them. Handle division by zero.\"\"\"\n",
    "a=int(input())\n",
    "b=int(input())\n",
    "try:\n",
    "    print(a/b)\n",
    "except ZeroDivisionError:\n",
    "    print(\"division by zero\")"
   ]
  },
  {
   "cell_type": "code",
   "execution_count": 6,
   "id": "b8294db3",
   "metadata": {},
   "outputs": [
    {
     "name": "stdout",
     "output_type": "stream",
     "text": [
      "2.0\n"
     ]
    }
   ],
   "source": [
    "\"\"\"Write a program that handles both ValueError (invalid input) and ZeroDivisionError.\"\"\"\n",
    "try:\n",
    "    a=int(input())\n",
    "    b=int(input())\n",
    "    c=a/b\n",
    "    print(c)\n",
    "except ValueError:\n",
    "    print(\"invalid input\")\n",
    "except ZeroDivisionError:\n",
    "    print(\"division by zero\")"
   ]
  },
  {
   "cell_type": "code",
   "execution_count": 7,
   "id": "390dc7b2",
   "metadata": {},
   "outputs": [
    {
     "name": "stdout",
     "output_type": "stream",
     "text": [
      "Withdrawal successful\n"
     ]
    }
   ],
   "source": [
    "\"\"\"If withdrawal amount is greater than balance, raise an exception.\"\"\"\n",
    "class InsufficientFundsError(Exception):\n",
    "    def __init__(self, message):\n",
    "        self.message = message\n",
    "    def __str__(self):\n",
    "        return self.message\n",
    "balance=1000\n",
    "amount=int(input())\n",
    "if amount>balance:\n",
    "    raise InsufficientFundsError(\"Insufficient funds\")\n",
    "else:\n",
    "    print(\"Withdrawal successful\")  "
   ]
  },
  {
   "cell_type": "code",
   "execution_count": 8,
   "id": "5cbe694d",
   "metadata": {},
   "outputs": [
    {
     "name": "stdout",
     "output_type": "stream",
     "text": [
      "Total price: ₹450\n",
      "Bill processing finished\n"
     ]
    }
   ],
   "source": [
    "\"\"\"Calculate total price, handle invalid input, and always show \"Bill processing finished\".\n",
    "• First 100 units → ₹5/unit\n",
    "• Next 100 units → ₹7/unit\n",
    "• Above 200 units → ₹10/uni\"\"\"\n",
    "def calculate_bill(units):\n",
    "    if units <= 100:\n",
    "        return units * 5\n",
    "    elif units <= 200:\n",
    "        return (100 * 5) + ((units - 100) * 7)\n",
    "    else:\n",
    "        return (100 * 5) + (100 * 7) + ((units - 200) * 10)\n",
    "\n",
    "try:\n",
    "    user_input = input(\"Enter number of units consumed: \")\n",
    "    units = int(user_input)\n",
    "    if units < 0:\n",
    "        print(\"Invalid input: Units cannot be negative.\")\n",
    "    else:\n",
    "        total_price = calculate_bill(units)\n",
    "        print(f\"Total price: ₹{total_price}\")\n",
    "except ValueError:\n",
    "    print(\"Invalid input: Please enter a valid integer.\")\n",
    "finally:\n",
    "    print(\"Bill processing finished\")\n"
   ]
  },
  {
   "cell_type": "code",
   "execution_count": null,
   "id": "dd634c3e",
   "metadata": {},
   "outputs": [],
   "source": []
  }
 ],
 "metadata": {
  "kernelspec": {
   "display_name": "Python 3",
   "language": "python",
   "name": "python3"
  },
  "language_info": {
   "codemirror_mode": {
    "name": "ipython",
    "version": 3
   },
   "file_extension": ".py",
   "mimetype": "text/x-python",
   "name": "python",
   "nbconvert_exporter": "python",
   "pygments_lexer": "ipython3",
   "version": "3.11.13"
  }
 },
 "nbformat": 4,
 "nbformat_minor": 5
}
